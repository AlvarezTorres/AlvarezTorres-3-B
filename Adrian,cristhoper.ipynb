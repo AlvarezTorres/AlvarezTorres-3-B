{
 "cells": [
  {
   "cell_type": "code",
   "execution_count": 1,
   "metadata": {},
   "outputs": [
    {
     "name": "stdout",
     "output_type": "stream",
     "text": [
      "Team the craks Adrian & Cristopher \n"
     ]
    },
    {
     "name": "stdin",
     "output_type": "stream",
     "text": [
      "How much names do you want to input 3\n",
      "Introduce the name 1\n",
      "Introduce the name 2\n",
      "Introduce the name 3\n",
      "Put the position of the name that you need kow, taking the 0 like the first position of the data=3 so: 3\n"
     ]
    },
    {
     "name": "stdout",
     "output_type": "stream",
     "text": [
      "The number was not found, deals with a smaller number, remeber if the is data=3 the positions are:0,1,2,n\n"
     ]
    },
    {
     "name": "stdin",
     "output_type": "stream",
     "text": [
      " 2\n"
     ]
    },
    {
     "name": "stdout",
     "output_type": "stream",
     "text": [
      "The name is:\n",
      "3\n"
     ]
    }
   ],
   "source": [
    "print (\"Team the craks Adrian & Cristopher \")\n",
    "values= int (input(\"How much names do you want to input\"))\n",
    "names=[]\n",
    "for i in range (0,values):\n",
    "    x= input(\"Introduce the name\")\n",
    "    names.append(x)\n",
    "y=int(input(f\"Put the position of the name that you need kow, taking the 0 like the first position of the data={values} so:\"))\n",
    "if y<values:\n",
    "    print(\"The name is:\")\n",
    "    print(names[y])\n",
    "else:\n",
    "    print(\"The number was not found, deals with a smaller number, remeber if the is data=3 the positions are:0,1,2,n\")\n",
    "    z=int(input())\n",
    "    if  z <= values:\n",
    "        print(\"The name is:\")\n",
    "        print(names[z])"
   ]
  },
  {
   "cell_type": "code",
   "execution_count": null,
   "metadata": {},
   "outputs": [],
   "source": []
  },
  {
   "cell_type": "code",
   "execution_count": null,
   "metadata": {},
   "outputs": [],
   "source": []
  }
 ],
 "metadata": {
  "kernelspec": {
   "display_name": "Python 3",
   "language": "python",
   "name": "python3"
  },
  "language_info": {
   "codemirror_mode": {
    "name": "ipython",
    "version": 3
   },
   "file_extension": ".py",
   "mimetype": "text/x-python",
   "name": "python",
   "nbconvert_exporter": "python",
   "pygments_lexer": "ipython3",
   "version": "3.7.3"
  }
 },
 "nbformat": 4,
 "nbformat_minor": 4
}
