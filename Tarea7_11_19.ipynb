{
 "cells": [
  {
   "cell_type": "code",
   "execution_count": 30,
   "metadata": {},
   "outputs": [
    {
     "name": "stdin",
     "output_type": "stream",
     "text": [
      "Introduce x1: 1\n",
      "Introduce y1: 2\n",
      "Introduce x2: 2\n",
      "Introduce y2: 3\n"
     ]
    },
    {
     "name": "stdout",
     "output_type": "stream",
     "text": [
      "\n",
      "Write 0 to stop process\n"
     ]
    },
    {
     "name": "stdin",
     "output_type": "stream",
     "text": [
      "Introduce x3: 0\n",
      "Chose the number of what you want to do\\If you want all wirte 0 if not write 1 1\n",
      "chose the number of the operation that you want to do \n",
      " 1.Sample mean\n",
      " 2.Mode\n",
      " 3.Standard deviation\n",
      " 3\n"
     ]
    },
    {
     "name": "stdout",
     "output_type": "stream",
     "text": [
      "Standard deviation:0.7071067811865476\n"
     ]
    }
   ],
   "source": [
    "print(\"team the crack's)\n",
    "print(\"Alvarez and Cristopher\")\n",
    "i = 0\n",
    "n = 1\n",
    "datos=0\n",
    "listx = []\n",
    "listy = []\n",
    "sumY=0\n",
    "repetir=0\n",
    "for k in range(0,2):\n",
    "    x = float(input(f\"Introduce x{n}:\"))             \n",
    "    listx.append(x)\n",
    "    y = float(input(f\"Introduce y{n}:\"))               \n",
    "    listy.append(y)\n",
    "    sumY+=y\n",
    "    n+=1\n",
    "    datos+=1\n",
    "while i < 1:\n",
    "    print(\"\\nWrite 0 to stop process\")\n",
    "    x = float(input(f\"Introduce x{n}:\"))             \n",
    "    listx.append(x)\n",
    "    if x != 0:\n",
    "        y = float(input(f\"Introduce y{n}:\"))\n",
    "        listy.append(y)\n",
    "        sumY+=y\n",
    "        datos+=1\n",
    "    else: i+=1\n",
    "media=sumY/datos #Promedio                                                                   \n",
    "\n",
    "for j in listy: ##Moda                                                                             \n",
    "    aparece = listy.count(j)                                                             \n",
    "    if aparece > repetir:                                                       \n",
    "        repetir = aparece                                                       \n",
    "moda=[]                                                                              \n",
    "for j in listy:                                                                              \n",
    "    aparece = listy.count(j)                                                             \n",
    "    if aparece == repetir and j not in moda:                                   \n",
    "        moda.append(j)\n",
    "        \n",
    "lista = [(listy[p]-media)**2   #desviacion\n",
    "                   for p in range(len(listy))]\n",
    "suma=sum(lista)\n",
    "s2=suma/(datos-1)\n",
    "s=s2**.5\n",
    "\n",
    "q= int(input(\"Chose the number of what you want to do\\If you want all wirte 0 if not write 1\"))\n",
    "if q==0:\n",
    "    print(f\"Sample mean:{media}\")\n",
    "    print(f\"Mode:{moda}\")\n",
    "    print(f\"Standard deviation:{s}\")\n",
    "elif q==1:\n",
    "    a=int (input(\"chose the number of the operation that you want to do \\n 1.Sample mean\\n 2.Mode\\n 3.Standard deviation\\n\"))\n",
    "    if a==1:\n",
    "        print(f\"Sample mean:{media}\")\n",
    "    elif a==2:\n",
    "        print(f\"Mode:{moda}\")\n",
    "    else:\n",
    "        print(f\"Standard deviation:{s}\")\n",
    "        \n",
    "            "
   ]
  },
  {
   "cell_type": "code",
   "execution_count": null,
   "metadata": {},
   "outputs": [],
   "source": []
  }
 ],
 "metadata": {
  "kernelspec": {
   "display_name": "Python 3",
   "language": "python",
   "name": "python3"
  },
  "language_info": {
   "codemirror_mode": {
    "name": "ipython",
    "version": 3
   },
   "file_extension": ".py",
   "mimetype": "text/x-python",
   "name": "python",
   "nbconvert_exporter": "python",
   "pygments_lexer": "ipython3",
   "version": "3.7.3"
  }
 },
 "nbformat": 4,
 "nbformat_minor": 4
}
