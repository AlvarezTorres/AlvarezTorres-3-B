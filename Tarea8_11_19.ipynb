{
 "cells": [
  {
   "cell_type": "code",
   "execution_count": 7,
   "metadata": {},
   "outputs": [
    {
     "name": "stdout",
     "output_type": "stream",
     "text": [
      "Alvarez Torres and Cristopher Ponce\n"
     ]
    },
    {
     "name": "stdin",
     "output_type": "stream",
     "text": [
      "Introduce x1: 1\n",
      "Introduce y1: 10\n",
      "Introduce x2: 2\n",
      "Introduce y2: 9\n"
     ]
    },
    {
     "name": "stdout",
     "output_type": "stream",
     "text": [
      "\n",
      "Write 0 to stop process\n"
     ]
    },
    {
     "name": "stdin",
     "output_type": "stream",
     "text": [
      "Introduce x3: 3\n",
      "Introduce y3: 8\n"
     ]
    },
    {
     "name": "stdout",
     "output_type": "stream",
     "text": [
      "\n",
      "Write 0 to stop process\n"
     ]
    },
    {
     "name": "stdin",
     "output_type": "stream",
     "text": [
      "Introduce x4: 4\n",
      "Introduce y4: 7\n"
     ]
    },
    {
     "name": "stdout",
     "output_type": "stream",
     "text": [
      "\n",
      "Write 0 to stop process\n"
     ]
    },
    {
     "name": "stdin",
     "output_type": "stream",
     "text": [
      "Introduce x5: 5\n",
      "Introduce y5: 6\n"
     ]
    },
    {
     "name": "stdout",
     "output_type": "stream",
     "text": [
      "\n",
      "Write 0 to stop process\n"
     ]
    },
    {
     "name": "stdin",
     "output_type": "stream",
     "text": [
      "Introduce x6: 6\n",
      "Introduce y6: 5\n"
     ]
    },
    {
     "name": "stdout",
     "output_type": "stream",
     "text": [
      "\n",
      "Write 0 to stop process\n"
     ]
    },
    {
     "name": "stdin",
     "output_type": "stream",
     "text": [
      "Introduce x7: 7\n",
      "Introduce y7: 4\n"
     ]
    },
    {
     "name": "stdout",
     "output_type": "stream",
     "text": [
      "\n",
      "Write 0 to stop process\n"
     ]
    },
    {
     "name": "stdin",
     "output_type": "stream",
     "text": [
      "Introduce x8: 8\n",
      "Introduce y8: 3\n"
     ]
    },
    {
     "name": "stdout",
     "output_type": "stream",
     "text": [
      "\n",
      "Write 0 to stop process\n"
     ]
    },
    {
     "name": "stdin",
     "output_type": "stream",
     "text": [
      "Introduce x9: 9\n",
      "Introduce y9: 2\n"
     ]
    },
    {
     "name": "stdout",
     "output_type": "stream",
     "text": [
      "\n",
      "Write 0 to stop process\n"
     ]
    },
    {
     "name": "stdin",
     "output_type": "stream",
     "text": [
      "Introduce x10: 10\n",
      "Introduce y10: 1\n"
     ]
    },
    {
     "name": "stdout",
     "output_type": "stream",
     "text": [
      "\n",
      "Write 0 to stop process\n"
     ]
    },
    {
     "name": "stdin",
     "output_type": "stream",
     "text": [
      "Introduce x11: 0\n"
     ]
    },
    {
     "name": "stdout",
     "output_type": "stream",
     "text": [
      "List Y:\n",
      " [10.0, 9.0, 8.0, 7.0, 6.0, 5.0, 4.0, 3.0, 2.0, 1.0]\n",
      "Ordered list Y:\n",
      " [1.0, 2.0, 3.0, 4.0, 5.0, 6.0, 7.0, 8.0, 9.0, 10.0]\n"
     ]
    },
    {
     "name": "stdin",
     "output_type": "stream",
     "text": [
      "Introduce the percent of  trimmed mean that you want aplicate:% 20\n"
     ]
    },
    {
     "name": "stdout",
     "output_type": "stream",
     "text": [
      "Old sample mean:\n",
      " 5.5\n",
      "Number of data to eliminate of both sides:\n",
      "2\n",
      "New lis Y is:\n",
      "[3.0, 4.0, 5.0, 6.0, 7.0, 8.0]\n",
      "New number of data is:\n",
      "6\n",
      "New sample mean:\n",
      "5.5\n"
     ]
    }
   ],
   "source": [
    "print(\"Alvarez Torres and Cristopher Ponce\")\n",
    "i = 0\n",
    "n = 1\n",
    "datos=0\n",
    "listx = []\n",
    "listy = []\n",
    "sumY=0\n",
    "repetir=0\n",
    "for k in range(0,2):\n",
    "    x = float(input(f\"Introduce x{n}:\"))             \n",
    "    listx.append(x)\n",
    "    y = float(input(f\"Introduce y{n}:\"))               \n",
    "    listy.append(y)\n",
    "    sumY+=y\n",
    "    n+=1\n",
    "    datos+=1\n",
    "while i < 1:\n",
    "    print(\"\\nWrite 0 to stop process\")\n",
    "    x = float(input(f\"Introduce x{n}:\"))             \n",
    "    listx.append(x)\n",
    "    if x != 0:\n",
    "        y = float(input(f\"Introduce y{n}:\"))\n",
    "        listy.append(y)\n",
    "        sumY+=y\n",
    "        datos+=1\n",
    "        n+=1\n",
    "    else: i+=1\n",
    "ordenaday=sorted(listy)\n",
    "print(f\"List Y:\\n {listy}\")\n",
    "print(f\"Ordered list Y:\\n {ordenaday}\")\n",
    "a=int(input (\"Introduce the percent of  trimmed mean that you want aplicate:%\"))\n",
    "oldPromedio=sumY/datos\n",
    "print(f\"Old sample mean:\\n {oldPromedio}\")\n",
    "pc=a*.01\n",
    "pcOfData=pc*datos\n",
    "pcToAplicate=pcOfData//1\n",
    "reciduo=pcOfData%1\n",
    "if reciduo  > .5:\n",
    "    total=int(pcToAplicate+1)\n",
    "elif reciduo <.5:\n",
    "    total=int(pcToAplicate)\n",
    "else:\n",
    "    total=int(pcToAplicate)\n",
    "print (f\"Number of data to eliminate of both sides:\\n{total}\")\n",
    "datos-=1\n",
    "for d in range (total):\n",
    "    ordenaday.pop(0)\n",
    "    datos-=1\n",
    "for t in range (total):\n",
    "    ordenaday.pop(datos)\n",
    "    datos-=1\n",
    "datos+=1\n",
    "print (f\"New lis Y is:\\n{ordenaday}\")\n",
    "print (f\"New number of data is:\\n{datos}\")\n",
    "NuevaSumay=sum (ordenaday)\n",
    "NewPromedio=NuevaSumay/datos\n",
    "print (f\"New sample mean:\\n{NewPromedio}\")"
   ]
  }
 ],
 "metadata": {
  "kernelspec": {
   "display_name": "Python 3",
   "language": "python",
   "name": "python3"
  },
  "language_info": {
   "codemirror_mode": {
    "name": "ipython",
    "version": 3
   },
   "file_extension": ".py",
   "mimetype": "text/x-python",
   "name": "python",
   "nbconvert_exporter": "python",
   "pygments_lexer": "ipython3",
   "version": "3.7.3"
  }
 },
 "nbformat": 4,
 "nbformat_minor": 4
}
