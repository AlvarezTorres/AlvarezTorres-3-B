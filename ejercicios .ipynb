{
 "cells": [
  {
   "cell_type": "code",
   "execution_count": 13,
   "metadata": {},
   "outputs": [
    {
     "name": "stdout",
     "output_type": "stream",
     "text": [
      "Exercises 17\n",
      "In this exercise we saw that the code is taking one file from carpet, and it´s talking us how much the file weights \n",
      "Copying  from  -f to C:\\Users\\Alvarez\\AppData\\Roaming\\jupyter\\runtime\\kernel-3a4d5e95-2e42-4e95-85c2-39b9df4bfed8.json\n"
     ]
    },
    {
     "ename": "FileNotFoundError",
     "evalue": "[Errno 2] No such file or directory: '-f'",
     "output_type": "error",
     "traceback": [
      "\u001b[1;31m---------------------------------------------------------------------------\u001b[0m",
      "\u001b[1;31mFileNotFoundError\u001b[0m                         Traceback (most recent call last)",
      "\u001b[1;32m<ipython-input-13-1fbcaaed9761>\u001b[0m in \u001b[0;36m<module>\u001b[1;34m\u001b[0m\n\u001b[0;32m      8\u001b[0m \u001b[0mprint\u001b[0m\u001b[1;33m(\u001b[0m\u001b[1;34mf\"Copying  from  {from_file} to {to_file}\"\u001b[0m \u001b[1;33m)\u001b[0m\u001b[1;33m\u001b[0m\u001b[1;33m\u001b[0m\u001b[0m\n\u001b[0;32m      9\u001b[0m \u001b[1;33m\u001b[0m\u001b[0m\n\u001b[1;32m---> 10\u001b[1;33m \u001b[0min_file\u001b[0m \u001b[1;33m=\u001b[0m  \u001b[0mopen\u001b[0m\u001b[1;33m(\u001b[0m\u001b[0mfrom_file\u001b[0m\u001b[1;33m)\u001b[0m\u001b[1;33m\u001b[0m\u001b[1;33m\u001b[0m\u001b[0m\n\u001b[0m\u001b[0;32m     11\u001b[0m \u001b[0mindata\u001b[0m \u001b[1;33m=\u001b[0m  \u001b[0min_file\u001b[0m\u001b[1;33m.\u001b[0m\u001b[0mread\u001b[0m\u001b[1;33m(\u001b[0m\u001b[1;33m)\u001b[0m\u001b[1;33m\u001b[0m\u001b[1;33m\u001b[0m\u001b[0m\n\u001b[0;32m     12\u001b[0m \u001b[1;33m\u001b[0m\u001b[0m\n",
      "\u001b[1;31mFileNotFoundError\u001b[0m: [Errno 2] No such file or directory: '-f'"
     ]
    }
   ],
   "source": [
    "print(\"Exercises 17\")\n",
    "print(\"In this exercise we saw that the code is taking one file from carpet, and it´s talking us how much the file weights \")\n",
    "from sys  import  argv\n",
    "from os.path import exists\n",
    "\n",
    "script, from_file, to_file = argv\n",
    "\n",
    "print(f\"Copying  from  {from_file} to {to_file}\" )\n",
    "\n",
    "in_file =  open(from_file)\n",
    "indata =  in_file.read()\n",
    "\n",
    "print(f\"The input  file is  {len(indata)} bytes long\")\n",
    "print(f\"Does  the output  file exists? {exists(to_file)}\")\n",
    "print(f\"Ready,   hit RETURN  to continue, CTRL -C  to abort  \")\n",
    "input()\n",
    "\n",
    "out_file= open(to_file,'w')\n",
    "out_file.write(indata)\n",
    "\n",
    "print(\"Yes\")\n",
    "\n",
    "out_file.close()\n",
    "in_file.close()\n"
   ]
  },
  {
   "cell_type": "code",
   "execution_count": 7,
   "metadata": {},
   "outputs": [
    {
     "name": "stdout",
     "output_type": "stream",
     "text": [
      "Exercises 18\n",
      "In this exercises we only are putting values in each argument,and only it´s showign us the values arguments\n",
      "arg1:Adrian, arg2: Alvarez\n",
      "arg1 Adrian, arg2: Alvarez\n",
      "arg1: The bestFirst\n",
      "Ok, here maybe you would not find nothing \n"
     ]
    }
   ],
   "source": [
    "print(\"Exercises 18\")\n",
    "\n",
    "def print_2vari(*args):\n",
    "    arg1,arg2 =args\n",
    "    print(f\"arg1:{arg1}, arg2: {arg2}\")\n",
    "    \n",
    "def print_2vari_o(arg1,arg2):\n",
    "    print(f\"arg1 {arg1}, arg2: {arg2}\")\n",
    "    \n",
    "def print_first(arg1):\n",
    "    print(f\"arg1: {arg1}\")\n",
    "    \n",
    "def print_nothing():\n",
    "    print(\"Ok, here maybe you would not find nothing \")\n",
    "    \n",
    "print(\"In this exercises we only are putting values in each argument,and only it´s showign us the values arguments\")\n",
    "    \n",
    "print_2vari(\"Adrian\",\"Alvarez\")\n",
    "print_2vari_o(\"Adrian\",\"Alvarez\")\n",
    "print_first(\"The bestFirst\")\n",
    "print_nothing()\n",
    "\n",
    "\n"
   ]
  },
  {
   "cell_type": "code",
   "execution_count": 5,
   "metadata": {},
   "outputs": [
    {
     "name": "stdout",
     "output_type": "stream",
     "text": [
      "EXERCISE 19\n",
      "This is the function numbers :\n",
      "you have 130 phones!\n",
      "You have 390  bags of smart phones\n",
      "You have now a lot smart phones\n",
      "Get a plate. \n",
      "\n",
      "There are the variables of our script: \n",
      "And more Math: \n",
      "you have 130 phones!\n",
      "You have 143  bags of smart phones\n",
      "You have now a lot smart phones\n",
      "Get a plate. \n",
      "\n",
      "And we can combine the two, variables and math:\n",
      "you have 1211 phones!\n",
      "You have 11170  bags of smart phones\n",
      "You have now a lot smart phones\n",
      "Get a plate. \n",
      "\n",
      "In our definition, we have a number, but when we put the name of our definition again, with other number,it´s like changes the value, and the last value is changed\n",
      "tThis exercise defines one value or more, for example with the smart phones, and the bags, but we can change the values of the definition\n"
     ]
    }
   ],
   "source": [
    "print(\"EXERCISE 19\")\n",
    "def box_of_samart_phones(smart_phones_count, bags_of_smart_phones):\n",
    "    print(f\"you have {smart_phones_count} phones!\")\n",
    "    print(f\"You have {bags_of_smart_phones}  bags of smart phones\")\n",
    "    print(\"You have now a lot smart phones\")\n",
    "    print(\"Get a plate. \\n\")\n",
    "    \n",
    "print(\"This is the function numbers :\" )\n",
    "box_of_samart_phones(130,390)\n",
    "\n",
    "print(\"There are the variables of our script: \")\n",
    "amount_of_phones = 111\n",
    "amount_of_bags = 170\n",
    "\n",
    "print(\"And more Math: \")\n",
    "box_of_samart_phones(100 + 30, 57 + 86)\n",
    "\n",
    "\n",
    "print(\"And we can combine the two, variables and math:\")\n",
    "box_of_samart_phones(amount_of_phones + 1100, amount_of_bags + 11000)\n",
    "\n",
    "print(\"In our definition, we have a number, but when we put the name of our definition again, with other number,it´s like changes the value, and the last value is changed\")\n",
    "print(\"tThis exercise defines one value or more, for example with the smart phones, and the bags, but we can change the values of the definition\")\n"
   ]
  },
  {
   "cell_type": "code",
   "execution_count": 6,
   "metadata": {},
   "outputs": [
    {
     "name": "stdout",
     "output_type": "stream",
     "text": [
      "Exercises 20\n"
     ]
    },
    {
     "ename": "ValueError",
     "evalue": "too many values to unpack (expected 2)",
     "output_type": "error",
     "traceback": [
      "\u001b[1;31m---------------------------------------------------------------------------\u001b[0m",
      "\u001b[1;31mValueError\u001b[0m                                Traceback (most recent call last)",
      "\u001b[1;32m<ipython-input-6-1f1ac7fc596e>\u001b[0m in \u001b[0;36m<module>\u001b[1;34m\u001b[0m\n\u001b[0;32m      3\u001b[0m \u001b[1;32mfrom\u001b[0m \u001b[0msys\u001b[0m \u001b[1;32mimport\u001b[0m \u001b[0margv\u001b[0m\u001b[1;33m\u001b[0m\u001b[1;33m\u001b[0m\u001b[0m\n\u001b[0;32m      4\u001b[0m \u001b[1;33m\u001b[0m\u001b[0m\n\u001b[1;32m----> 5\u001b[1;33m \u001b[0mscript\u001b[0m\u001b[1;33m,\u001b[0m \u001b[0minput_file\u001b[0m \u001b[1;33m=\u001b[0m\u001b[0margv\u001b[0m\u001b[1;33m\u001b[0m\u001b[1;33m\u001b[0m\u001b[0m\n\u001b[0m\u001b[0;32m      6\u001b[0m \u001b[1;33m\u001b[0m\u001b[0m\n\u001b[0;32m      7\u001b[0m \u001b[1;32mdef\u001b[0m \u001b[0mprint_all\u001b[0m\u001b[1;33m(\u001b[0m\u001b[0mf\u001b[0m\u001b[1;33m)\u001b[0m\u001b[1;33m:\u001b[0m\u001b[1;33m\u001b[0m\u001b[1;33m\u001b[0m\u001b[0m\n",
      "\u001b[1;31mValueError\u001b[0m: too many values to unpack (expected 2)"
     ]
    }
   ],
   "source": [
    "\n",
    "print(\"Exercises 20\")\n",
    "\n",
    "from sys import argv\n",
    "\n",
    "script, input_file =argv\n",
    "\n",
    "def print_all(f): \n",
    "    print(f.read())\n",
    "    \n",
    "def  rewind(f):\n",
    "    f.seek(0)\n",
    "    \n",
    "def  print_a_line(line_count, f):\n",
    "    print(line_count, f.readline())\n",
    "\n",
    "cfile = open(input_file)\n",
    "\n",
    "print(\"First let´s print  the whole file: \\n\")\n",
    "\n",
    "print_all(cfile)\n",
    "\n",
    "print(\"Now let´s rewind, kind of  like  a tape\")\n",
    "\n",
    "rewind(cfile)\n",
    "\n",
    "print(\"Let´s print\")\n",
    "\n",
    "cline= 1\n",
    "print_a_line(cline,cfile)\n",
    "\n",
    "cline=cline +1\n",
    "print_a_line=(cline,cfile)\n",
    "\n",
    "cline= cline+ 1\n",
    "print_a_line=(cline,cfile)\n"
   ]
  },
  {
   "cell_type": "code",
   "execution_count": 6,
   "metadata": {},
   "outputs": [
    {
     "name": "stdout",
     "output_type": "stream",
     "text": [
      "Exercises 21\n",
      "We can use this type of definitions, and we can use math with the values, and we can play with the values with addition and others operations\n",
      "Let´s go with the Math\n",
      "ADDING 19 + 1\n",
      "Substracting 30-4\n",
      "MULTIPLYING 10*1\n",
      "DIVIDING 100/2\n",
      "high20, sample 26 , weight 10, cost 50.0\n",
      "Here is an other example\n",
      "DIVIDING 50.0/1\n",
      "MULTIPLYING 10*50.0\n",
      "Substracting 26-500.0\n",
      "ADDING 20 + -474.0\n",
      "-454.0\n"
     ]
    }
   ],
   "source": [
    "print(\"Exercises 21\")\n",
    "print(\"We can use this type of definitions, and we can use math with the values, and we can play with the values with addition and others operations\")\n",
    "def  add(x,y):\n",
    "    print(f\"ADDING {x} + {y}\")\n",
    "    return x + y\n",
    "\n",
    "def subtract(x,y):\n",
    "    print(f\"Substracting {x}-{y}\")\n",
    "    return x - y\n",
    "\n",
    "def multiply(x,y):\n",
    "    print(f\"MULTIPLYING {x}*{y}\")\n",
    "    return x * y\n",
    "\n",
    "def divide(x,y):\n",
    "    print(f\"DIVIDING {x}/{y}\")\n",
    "    return x / y\n",
    "\n",
    "print(\"Let´s go with the Math\")\n",
    "\n",
    "high= add(19,1)\n",
    "sample=subtract(30,4)\n",
    "weight=multiply(10,1)\n",
    "cost=divide(100,2)\n",
    "\n",
    "print(f\"high{high}, sample { sample} , weight {weight}, cost {cost}\")\n",
    "\n",
    "print(\"Here is an other example\")\n",
    "\n",
    "xdd= add(high,subtract(sample,multiply(weight,divide(cost,1))))\n",
    "print(xdd)\n"
   ]
  },
  {
   "cell_type": "code",
   "execution_count": null,
   "metadata": {},
   "outputs": [],
   "source": [
    "\n"
   ]
  },
  {
   "cell_type": "code",
   "execution_count": null,
   "metadata": {},
   "outputs": [],
   "source": []
  }
 ],
 "metadata": {
  "kernelspec": {
   "display_name": "Python 3",
   "language": "python",
   "name": "python3"
  },
  "language_info": {
   "codemirror_mode": {
    "name": "ipython",
    "version": 3
   },
   "file_extension": ".py",
   "mimetype": "text/x-python",
   "name": "python",
   "nbconvert_exporter": "python",
   "pygments_lexer": "ipython3",
   "version": "3.7.3"
  }
 },
 "nbformat": 4,
 "nbformat_minor": 4
}
